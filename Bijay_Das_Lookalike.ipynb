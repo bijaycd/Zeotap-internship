{
 "cells": [
  {
   "cell_type": "code",
   "execution_count": 1,
   "id": "9319eb6b-6e75-4b53-bf57-cfe73447f72e",
   "metadata": {},
   "outputs": [],
   "source": [
    "import pandas as pd\n",
    "from sklearn.metrics.pairwise import cosine_similarity\n",
    "from sklearn.preprocessing import StandardScaler\n",
    "import numpy as np"
   ]
  },
  {
   "cell_type": "code",
   "execution_count": 2,
   "id": "51cf73ef-b714-47b1-a3f4-bab278545f29",
   "metadata": {},
   "outputs": [],
   "source": [
    "# Load the datasets\n",
    "customers_df = pd.read_csv(\"Customers.csv\")\n",
    "transactions_df = pd.read_csv(\"Transactions.csv\")\n",
    "products_df = pd.read_csv(\"Products.csv\")"
   ]
  },
  {
   "cell_type": "markdown",
   "id": "c15bd1e2-a9eb-4651-9426-72e68d529216",
   "metadata": {},
   "source": [
    "## Basic Preprocessing"
   ]
  },
  {
   "cell_type": "code",
   "execution_count": 3,
   "id": "aff3f4de-e918-4250-b0e6-7e4b48c6352e",
   "metadata": {},
   "outputs": [],
   "source": [
    "# Merge transaction data with customer data\n",
    "customer_transactions = transactions_df.groupby('CustomerID').agg(\n",
    "    total_spent=('TotalValue', 'sum'),\n",
    "    num_transactions=('TransactionID', 'count'),\n",
    "    unique_products=('ProductID', 'nunique')\n",
    ").reset_index()\n",
    "\n",
    "# Merge the customer data and the transaction data\n",
    "merged_df = pd.merge(customers_df, customer_transactions, on=\"CustomerID\", how=\"left\")"
   ]
  },
  {
   "cell_type": "code",
   "execution_count": 4,
   "id": "3fb6c4c5-c382-4eb5-a43b-85a394f45877",
   "metadata": {},
   "outputs": [
    {
     "data": {
      "text/html": [
       "<div>\n",
       "<style scoped>\n",
       "    .dataframe tbody tr th:only-of-type {\n",
       "        vertical-align: middle;\n",
       "    }\n",
       "\n",
       "    .dataframe tbody tr th {\n",
       "        vertical-align: top;\n",
       "    }\n",
       "\n",
       "    .dataframe thead th {\n",
       "        text-align: right;\n",
       "    }\n",
       "</style>\n",
       "<table border=\"1\" class=\"dataframe\">\n",
       "  <thead>\n",
       "    <tr style=\"text-align: right;\">\n",
       "      <th></th>\n",
       "      <th>CustomerID</th>\n",
       "      <th>CustomerName</th>\n",
       "      <th>Region</th>\n",
       "      <th>SignupDate</th>\n",
       "      <th>total_spent</th>\n",
       "      <th>num_transactions</th>\n",
       "      <th>unique_products</th>\n",
       "    </tr>\n",
       "  </thead>\n",
       "  <tbody>\n",
       "    <tr>\n",
       "      <th>0</th>\n",
       "      <td>C0001</td>\n",
       "      <td>Lawrence Carroll</td>\n",
       "      <td>South America</td>\n",
       "      <td>2022-07-10</td>\n",
       "      <td>3354.52</td>\n",
       "      <td>5.0</td>\n",
       "      <td>5.0</td>\n",
       "    </tr>\n",
       "    <tr>\n",
       "      <th>1</th>\n",
       "      <td>C0002</td>\n",
       "      <td>Elizabeth Lutz</td>\n",
       "      <td>Asia</td>\n",
       "      <td>2022-02-13</td>\n",
       "      <td>1862.74</td>\n",
       "      <td>4.0</td>\n",
       "      <td>4.0</td>\n",
       "    </tr>\n",
       "    <tr>\n",
       "      <th>2</th>\n",
       "      <td>C0003</td>\n",
       "      <td>Michael Rivera</td>\n",
       "      <td>South America</td>\n",
       "      <td>2024-03-07</td>\n",
       "      <td>2725.38</td>\n",
       "      <td>4.0</td>\n",
       "      <td>4.0</td>\n",
       "    </tr>\n",
       "    <tr>\n",
       "      <th>3</th>\n",
       "      <td>C0004</td>\n",
       "      <td>Kathleen Rodriguez</td>\n",
       "      <td>South America</td>\n",
       "      <td>2022-10-09</td>\n",
       "      <td>5354.88</td>\n",
       "      <td>8.0</td>\n",
       "      <td>8.0</td>\n",
       "    </tr>\n",
       "    <tr>\n",
       "      <th>4</th>\n",
       "      <td>C0005</td>\n",
       "      <td>Laura Weber</td>\n",
       "      <td>Asia</td>\n",
       "      <td>2022-08-15</td>\n",
       "      <td>2034.24</td>\n",
       "      <td>3.0</td>\n",
       "      <td>3.0</td>\n",
       "    </tr>\n",
       "  </tbody>\n",
       "</table>\n",
       "</div>"
      ],
      "text/plain": [
       "  CustomerID        CustomerName         Region  SignupDate  total_spent  \\\n",
       "0      C0001    Lawrence Carroll  South America  2022-07-10      3354.52   \n",
       "1      C0002      Elizabeth Lutz           Asia  2022-02-13      1862.74   \n",
       "2      C0003      Michael Rivera  South America  2024-03-07      2725.38   \n",
       "3      C0004  Kathleen Rodriguez  South America  2022-10-09      5354.88   \n",
       "4      C0005         Laura Weber           Asia  2022-08-15      2034.24   \n",
       "\n",
       "   num_transactions  unique_products  \n",
       "0               5.0              5.0  \n",
       "1               4.0              4.0  \n",
       "2               4.0              4.0  \n",
       "3               8.0              8.0  \n",
       "4               3.0              3.0  "
      ]
     },
     "execution_count": 4,
     "metadata": {},
     "output_type": "execute_result"
    }
   ],
   "source": [
    "merged_df.head()"
   ]
  },
  {
   "cell_type": "code",
   "execution_count": 5,
   "id": "5f09cc7c-18a6-4a55-906f-2c34af8bacfa",
   "metadata": {},
   "outputs": [
    {
     "data": {
      "text/plain": [
       "(200, 7)"
      ]
     },
     "execution_count": 5,
     "metadata": {},
     "output_type": "execute_result"
    }
   ],
   "source": [
    "merged_df.shape"
   ]
  },
  {
   "cell_type": "code",
   "execution_count": 6,
   "id": "5b7ff3ba-9987-4ec9-8de6-51522894b9c4",
   "metadata": {},
   "outputs": [
    {
     "name": "stdout",
     "output_type": "stream",
     "text": [
      "<class 'pandas.core.frame.DataFrame'>\n",
      "RangeIndex: 200 entries, 0 to 199\n",
      "Data columns (total 7 columns):\n",
      " #   Column            Non-Null Count  Dtype  \n",
      "---  ------            --------------  -----  \n",
      " 0   CustomerID        200 non-null    object \n",
      " 1   CustomerName      200 non-null    object \n",
      " 2   Region            200 non-null    object \n",
      " 3   SignupDate        200 non-null    object \n",
      " 4   total_spent       199 non-null    float64\n",
      " 5   num_transactions  199 non-null    float64\n",
      " 6   unique_products   199 non-null    float64\n",
      "dtypes: float64(3), object(4)\n",
      "memory usage: 11.1+ KB\n"
     ]
    }
   ],
   "source": [
    "merged_df.info()"
   ]
  },
  {
   "cell_type": "code",
   "execution_count": 12,
   "id": "09d01aca-aa6b-476c-a435-df7b512aff71",
   "metadata": {},
   "outputs": [],
   "source": [
    "merged_df.dropna(inplace=True)"
   ]
  },
  {
   "cell_type": "code",
   "execution_count": 14,
   "id": "6f7d5136-99f6-44ed-bbcd-0c2575634977",
   "metadata": {},
   "outputs": [],
   "source": [
    "merged_df['num_transactions'] = merged_df['num_transactions'].astype(int)\n",
    "merged_df['unique_products'] = merged_df['unique_products'].astype(int)"
   ]
  },
  {
   "cell_type": "markdown",
   "id": "4b6c9996-10cb-439e-807d-0d6d62aee85f",
   "metadata": {},
   "source": [
    "## Feature Engineering"
   ]
  },
  {
   "cell_type": "code",
   "execution_count": 16,
   "id": "7f100321-364c-466c-9a1d-db9b89cc1f74",
   "metadata": {},
   "outputs": [],
   "source": [
    "merged_df['SignupYear'] = pd.to_datetime(merged_df['SignupDate']).dt.year\n",
    "merged_df['Region'] = merged_df['Region'].map({'North America': 0, 'Europe': 1, 'Asia': 2, 'South America': 3})"
   ]
  },
  {
   "cell_type": "markdown",
   "id": "446c1e6c-b7c3-4363-98e0-e6349169a383",
   "metadata": {},
   "source": [
    "## Scaling"
   ]
  },
  {
   "cell_type": "code",
   "execution_count": 17,
   "id": "f77792d0-f81a-4fa3-aa76-a860a76b2fc2",
   "metadata": {},
   "outputs": [],
   "source": [
    "# Normalize transaction-based features (total_spent, num_transactions, etc.)\n",
    "scaler = StandardScaler()\n",
    "transaction_features = merged_df[['total_spent', 'num_transactions', 'unique_products']]\n",
    "scaled_features = scaler.fit_transform(transaction_features)"
   ]
  },
  {
   "cell_type": "code",
   "execution_count": 18,
   "id": "8a3d41e0-6d57-4627-9952-a92b9bfe0c00",
   "metadata": {},
   "outputs": [],
   "source": [
    "# Combine profile features with transaction features\n",
    "profile_features = merged_df[['Region', 'SignupYear']].values\n",
    "combined_features = np.hstack([profile_features, scaled_features])"
   ]
  },
  {
   "cell_type": "markdown",
   "id": "1a5823dd-795d-4f7c-b264-b9e97d7a188e",
   "metadata": {},
   "source": [
    "## cosine similarity"
   ]
  },
  {
   "cell_type": "code",
   "execution_count": 19,
   "id": "bc9cafb0-20e3-460c-96a6-ddf635e642d5",
   "metadata": {},
   "outputs": [],
   "source": [
    "# Calculate Cosine Similarity between all customers\n",
    "cosine_sim = cosine_similarity(combined_features)"
   ]
  },
  {
   "cell_type": "code",
   "execution_count": 20,
   "id": "8059b165-e057-4842-bad6-68ad0ae522d7",
   "metadata": {},
   "outputs": [],
   "source": [
    "# Create a DataFrame to store the similarity scores\n",
    "similarity_df = pd.DataFrame(cosine_sim, columns=merged_df['CustomerID'], index=merged_df['CustomerID'])"
   ]
  },
  {
   "cell_type": "code",
   "execution_count": 21,
   "id": "37af142e-9f8d-40f6-90ea-f577a7bc7377",
   "metadata": {},
   "outputs": [],
   "source": [
    "# Function to recommend top 3 lookalike customers for each customer\n",
    "def get_top_lookalikes(customer_id, top_n=3):\n",
    "    # Get similarity scores for the given customer and sort by highest score (exclude self-similarity)\n",
    "    similarity_scores = similarity_df[customer_id].drop(customer_id).sort_values(ascending=False).head(top_n)\n",
    "    recommendations = similarity_scores.index.tolist()\n",
    "    scores = similarity_scores.values.tolist()\n",
    "    return recommendations, scores"
   ]
  },
  {
   "cell_type": "code",
   "execution_count": 22,
   "id": "7eb426fe-4733-400d-bd3e-ded9d699386c",
   "metadata": {},
   "outputs": [
    {
     "name": "stdout",
     "output_type": "stream",
     "text": [
      "   cust_id                                         lookalikes\n",
      "0    C0001  [{'cust_id': 'C0137', 'score': 0.9999999999814...\n",
      "1    C0002  [{'cust_id': 'C0142', 'score': 0.9999999947840...\n",
      "2    C0003  [{'cust_id': 'C0133', 'score': 0.9999999990803...\n",
      "3    C0004  [{'cust_id': 'C0113', 'score': 0.9999999617130...\n",
      "4    C0005  [{'cust_id': 'C0159', 'score': 0.9999999999466...\n",
      "5    C0006  [{'cust_id': 'C0158', 'score': 0.9999999904655...\n",
      "6    C0007  [{'cust_id': 'C0159', 'score': 0.9999999905780...\n",
      "7    C0008  [{'cust_id': 'C0109', 'score': 0.9999999201651...\n",
      "8    C0009  [{'cust_id': 'C0197', 'score': 0.9999999610525...\n",
      "9    C0010  [{'cust_id': 'C0199', 'score': 0.9999999974931...\n",
      "10   C0011  [{'cust_id': 'C0107', 'score': 0.9999999995873...\n",
      "11   C0012  [{'cust_id': 'C0155', 'score': 0.9999999716964...\n",
      "12   C0013  [{'cust_id': 'C0087', 'score': 0.9999999866904...\n",
      "13   C0014  [{'cust_id': 'C0060', 'score': 0.9999999979015...\n",
      "14   C0015  [{'cust_id': 'C0144', 'score': 0.9999999991961...\n",
      "15   C0016  [{'cust_id': 'C0183', 'score': 0.9999999999786...\n",
      "16   C0017  [{'cust_id': 'C0124', 'score': 0.9999999382327...\n",
      "17   C0018  [{'cust_id': 'C0016', 'score': 0.9999999699260...\n",
      "18   C0019  [{'cust_id': 'C0172', 'score': 0.9999999999899...\n",
      "19   C0020  [{'cust_id': 'C0058', 'score': 0.9999999898923...\n"
     ]
    }
   ],
   "source": [
    "# Recommend lookalikes for the first 20 customers (C0001 to C0020)\n",
    "lookalike_map = {}\n",
    "for customer_id in [f\"C{str(i).zfill(4)}\" for i in range(1, 21)]:\n",
    "    recommendations, scores = get_top_lookalikes(customer_id)\n",
    "    lookalike_map[customer_id] = [{\"cust_id\": rec, \"score\": score} for rec, score in zip(recommendations, scores)]\n",
    "\n",
    "# Save the lookalike recommendations to a CSV\n",
    "lookalike_df = pd.DataFrame([\n",
    "    {'cust_id': cust_id, 'lookalikes': str(lookalikes)} for cust_id, lookalikes in lookalike_map.items()\n",
    "])\n",
    "\n",
    "# Output the result for the first 20 customers\n",
    "print(lookalike_df.head(20))"
   ]
  },
  {
   "cell_type": "code",
   "execution_count": 23,
   "id": "c5d08b09-3d7a-43c5-856c-71d47a2608a8",
   "metadata": {},
   "outputs": [],
   "source": [
    "lookalike_df.to_csv('Lookalike.csv', index=False)"
   ]
  }
 ],
 "metadata": {
  "kernelspec": {
   "display_name": "Python 3 (ipykernel)",
   "language": "python",
   "name": "python3"
  },
  "language_info": {
   "codemirror_mode": {
    "name": "ipython",
    "version": 3
   },
   "file_extension": ".py",
   "mimetype": "text/x-python",
   "name": "python",
   "nbconvert_exporter": "python",
   "pygments_lexer": "ipython3",
   "version": "3.11.7"
  }
 },
 "nbformat": 4,
 "nbformat_minor": 5
}
