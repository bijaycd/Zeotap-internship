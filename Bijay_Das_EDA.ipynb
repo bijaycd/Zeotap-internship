{
 "cells": [
  {
   "cell_type": "markdown",
   "id": "2eddc367-dad8-4264-8141-ce6c431f210a",
   "metadata": {},
   "source": [
    "## Importing important libraries"
   ]
  },
  {
   "cell_type": "code",
   "execution_count": 173,
   "id": "150d207a-0215-4876-ba45-025337ee5e5b",
   "metadata": {},
   "outputs": [],
   "source": [
    "import pandas as pd\n",
    "import sklearn\n",
    "import matplotlib.pyplot as plt\n",
    "import seaborn as sns\n",
    "\n",
    "import warnings\n",
    "warnings.filterwarnings('ignore')"
   ]
  },
  {
   "cell_type": "markdown",
   "id": "c6e2d205-b2f0-4141-92e8-e67933a62c20",
   "metadata": {},
   "source": [
    "## Load data"
   ]
  },
  {
   "cell_type": "code",
   "execution_count": 174,
   "id": "e976ab9b-5ab3-47d8-875e-b3b76de15f49",
   "metadata": {},
   "outputs": [],
   "source": [
    "customers_df = pd.read_csv('Customers.csv')\n",
    "products_df = pd.read_csv('Products.csv')\n",
    "transactions_df = pd.read_csv('Transactions.csv')"
   ]
  },
  {
   "cell_type": "code",
   "execution_count": 175,
   "id": "b8e9308c-0218-4225-b165-acba804c227d",
   "metadata": {},
   "outputs": [
    {
     "data": {
      "text/html": [
       "<div>\n",
       "<style scoped>\n",
       "    .dataframe tbody tr th:only-of-type {\n",
       "        vertical-align: middle;\n",
       "    }\n",
       "\n",
       "    .dataframe tbody tr th {\n",
       "        vertical-align: top;\n",
       "    }\n",
       "\n",
       "    .dataframe thead th {\n",
       "        text-align: right;\n",
       "    }\n",
       "</style>\n",
       "<table border=\"1\" class=\"dataframe\">\n",
       "  <thead>\n",
       "    <tr style=\"text-align: right;\">\n",
       "      <th></th>\n",
       "      <th>CustomerID</th>\n",
       "      <th>CustomerName</th>\n",
       "      <th>Region</th>\n",
       "      <th>SignupDate</th>\n",
       "    </tr>\n",
       "  </thead>\n",
       "  <tbody>\n",
       "    <tr>\n",
       "      <th>0</th>\n",
       "      <td>C0001</td>\n",
       "      <td>Lawrence Carroll</td>\n",
       "      <td>South America</td>\n",
       "      <td>2022-07-10</td>\n",
       "    </tr>\n",
       "    <tr>\n",
       "      <th>1</th>\n",
       "      <td>C0002</td>\n",
       "      <td>Elizabeth Lutz</td>\n",
       "      <td>Asia</td>\n",
       "      <td>2022-02-13</td>\n",
       "    </tr>\n",
       "    <tr>\n",
       "      <th>2</th>\n",
       "      <td>C0003</td>\n",
       "      <td>Michael Rivera</td>\n",
       "      <td>South America</td>\n",
       "      <td>2024-03-07</td>\n",
       "    </tr>\n",
       "    <tr>\n",
       "      <th>3</th>\n",
       "      <td>C0004</td>\n",
       "      <td>Kathleen Rodriguez</td>\n",
       "      <td>South America</td>\n",
       "      <td>2022-10-09</td>\n",
       "    </tr>\n",
       "    <tr>\n",
       "      <th>4</th>\n",
       "      <td>C0005</td>\n",
       "      <td>Laura Weber</td>\n",
       "      <td>Asia</td>\n",
       "      <td>2022-08-15</td>\n",
       "    </tr>\n",
       "  </tbody>\n",
       "</table>\n",
       "</div>"
      ],
      "text/plain": [
       "  CustomerID        CustomerName         Region  SignupDate\n",
       "0      C0001    Lawrence Carroll  South America  2022-07-10\n",
       "1      C0002      Elizabeth Lutz           Asia  2022-02-13\n",
       "2      C0003      Michael Rivera  South America  2024-03-07\n",
       "3      C0004  Kathleen Rodriguez  South America  2022-10-09\n",
       "4      C0005         Laura Weber           Asia  2022-08-15"
      ]
     },
     "execution_count": 175,
     "metadata": {},
     "output_type": "execute_result"
    }
   ],
   "source": [
    "customers_df.head()"
   ]
  },
  {
   "cell_type": "code",
   "execution_count": 176,
   "id": "f58741f2-cf69-49e4-b631-a19c204731c4",
   "metadata": {},
   "outputs": [
    {
     "name": "stdout",
     "output_type": "stream",
     "text": [
      "<class 'pandas.core.frame.DataFrame'>\n",
      "RangeIndex: 200 entries, 0 to 199\n",
      "Data columns (total 4 columns):\n",
      " #   Column        Non-Null Count  Dtype \n",
      "---  ------        --------------  ----- \n",
      " 0   CustomerID    200 non-null    object\n",
      " 1   CustomerName  200 non-null    object\n",
      " 2   Region        200 non-null    object\n",
      " 3   SignupDate    200 non-null    object\n",
      "dtypes: object(4)\n",
      "memory usage: 6.4+ KB\n"
     ]
    }
   ],
   "source": [
    "customers_df.info()"
   ]
  },
  {
   "cell_type": "code",
   "execution_count": 177,
   "id": "9b3ad2d9-70c2-43fd-8201-1f99c5356be3",
   "metadata": {},
   "outputs": [
    {
     "data": {
      "text/html": [
       "<div>\n",
       "<style scoped>\n",
       "    .dataframe tbody tr th:only-of-type {\n",
       "        vertical-align: middle;\n",
       "    }\n",
       "\n",
       "    .dataframe tbody tr th {\n",
       "        vertical-align: top;\n",
       "    }\n",
       "\n",
       "    .dataframe thead th {\n",
       "        text-align: right;\n",
       "    }\n",
       "</style>\n",
       "<table border=\"1\" class=\"dataframe\">\n",
       "  <thead>\n",
       "    <tr style=\"text-align: right;\">\n",
       "      <th></th>\n",
       "      <th>ProductID</th>\n",
       "      <th>ProductName</th>\n",
       "      <th>Category</th>\n",
       "      <th>Price</th>\n",
       "    </tr>\n",
       "  </thead>\n",
       "  <tbody>\n",
       "    <tr>\n",
       "      <th>0</th>\n",
       "      <td>P001</td>\n",
       "      <td>ActiveWear Biography</td>\n",
       "      <td>Books</td>\n",
       "      <td>169.30</td>\n",
       "    </tr>\n",
       "    <tr>\n",
       "      <th>1</th>\n",
       "      <td>P002</td>\n",
       "      <td>ActiveWear Smartwatch</td>\n",
       "      <td>Electronics</td>\n",
       "      <td>346.30</td>\n",
       "    </tr>\n",
       "    <tr>\n",
       "      <th>2</th>\n",
       "      <td>P003</td>\n",
       "      <td>ComfortLiving Biography</td>\n",
       "      <td>Books</td>\n",
       "      <td>44.12</td>\n",
       "    </tr>\n",
       "    <tr>\n",
       "      <th>3</th>\n",
       "      <td>P004</td>\n",
       "      <td>BookWorld Rug</td>\n",
       "      <td>Home Decor</td>\n",
       "      <td>95.69</td>\n",
       "    </tr>\n",
       "    <tr>\n",
       "      <th>4</th>\n",
       "      <td>P005</td>\n",
       "      <td>TechPro T-Shirt</td>\n",
       "      <td>Clothing</td>\n",
       "      <td>429.31</td>\n",
       "    </tr>\n",
       "  </tbody>\n",
       "</table>\n",
       "</div>"
      ],
      "text/plain": [
       "  ProductID              ProductName     Category   Price\n",
       "0      P001     ActiveWear Biography        Books  169.30\n",
       "1      P002    ActiveWear Smartwatch  Electronics  346.30\n",
       "2      P003  ComfortLiving Biography        Books   44.12\n",
       "3      P004            BookWorld Rug   Home Decor   95.69\n",
       "4      P005          TechPro T-Shirt     Clothing  429.31"
      ]
     },
     "execution_count": 177,
     "metadata": {},
     "output_type": "execute_result"
    }
   ],
   "source": [
    "products_df.head()"
   ]
  },
  {
   "cell_type": "code",
   "execution_count": 178,
   "id": "627c4fef-224b-48a8-9d9e-218d3c4290cf",
   "metadata": {},
   "outputs": [
    {
     "name": "stdout",
     "output_type": "stream",
     "text": [
      "<class 'pandas.core.frame.DataFrame'>\n",
      "RangeIndex: 100 entries, 0 to 99\n",
      "Data columns (total 4 columns):\n",
      " #   Column       Non-Null Count  Dtype  \n",
      "---  ------       --------------  -----  \n",
      " 0   ProductID    100 non-null    object \n",
      " 1   ProductName  100 non-null    object \n",
      " 2   Category     100 non-null    object \n",
      " 3   Price        100 non-null    float64\n",
      "dtypes: float64(1), object(3)\n",
      "memory usage: 3.3+ KB\n"
     ]
    }
   ],
   "source": [
    "products_df.info()"
   ]
  },
  {
   "cell_type": "code",
   "execution_count": 179,
   "id": "05c511e3-518f-45ee-ae4d-f8fb4e27341c",
   "metadata": {},
   "outputs": [
    {
     "data": {
      "text/html": [
       "<div>\n",
       "<style scoped>\n",
       "    .dataframe tbody tr th:only-of-type {\n",
       "        vertical-align: middle;\n",
       "    }\n",
       "\n",
       "    .dataframe tbody tr th {\n",
       "        vertical-align: top;\n",
       "    }\n",
       "\n",
       "    .dataframe thead th {\n",
       "        text-align: right;\n",
       "    }\n",
       "</style>\n",
       "<table border=\"1\" class=\"dataframe\">\n",
       "  <thead>\n",
       "    <tr style=\"text-align: right;\">\n",
       "      <th></th>\n",
       "      <th>TransactionID</th>\n",
       "      <th>CustomerID</th>\n",
       "      <th>ProductID</th>\n",
       "      <th>TransactionDate</th>\n",
       "      <th>Quantity</th>\n",
       "      <th>TotalValue</th>\n",
       "      <th>Price</th>\n",
       "    </tr>\n",
       "  </thead>\n",
       "  <tbody>\n",
       "    <tr>\n",
       "      <th>0</th>\n",
       "      <td>T00001</td>\n",
       "      <td>C0199</td>\n",
       "      <td>P067</td>\n",
       "      <td>2024-08-25 12:38:23</td>\n",
       "      <td>1</td>\n",
       "      <td>300.68</td>\n",
       "      <td>300.68</td>\n",
       "    </tr>\n",
       "    <tr>\n",
       "      <th>1</th>\n",
       "      <td>T00112</td>\n",
       "      <td>C0146</td>\n",
       "      <td>P067</td>\n",
       "      <td>2024-05-27 22:23:54</td>\n",
       "      <td>1</td>\n",
       "      <td>300.68</td>\n",
       "      <td>300.68</td>\n",
       "    </tr>\n",
       "    <tr>\n",
       "      <th>2</th>\n",
       "      <td>T00166</td>\n",
       "      <td>C0127</td>\n",
       "      <td>P067</td>\n",
       "      <td>2024-04-25 07:38:55</td>\n",
       "      <td>1</td>\n",
       "      <td>300.68</td>\n",
       "      <td>300.68</td>\n",
       "    </tr>\n",
       "    <tr>\n",
       "      <th>3</th>\n",
       "      <td>T00272</td>\n",
       "      <td>C0087</td>\n",
       "      <td>P067</td>\n",
       "      <td>2024-03-26 22:55:37</td>\n",
       "      <td>2</td>\n",
       "      <td>601.36</td>\n",
       "      <td>300.68</td>\n",
       "    </tr>\n",
       "    <tr>\n",
       "      <th>4</th>\n",
       "      <td>T00363</td>\n",
       "      <td>C0070</td>\n",
       "      <td>P067</td>\n",
       "      <td>2024-03-21 15:10:10</td>\n",
       "      <td>3</td>\n",
       "      <td>902.04</td>\n",
       "      <td>300.68</td>\n",
       "    </tr>\n",
       "  </tbody>\n",
       "</table>\n",
       "</div>"
      ],
      "text/plain": [
       "  TransactionID CustomerID ProductID      TransactionDate  Quantity  \\\n",
       "0        T00001      C0199      P067  2024-08-25 12:38:23         1   \n",
       "1        T00112      C0146      P067  2024-05-27 22:23:54         1   \n",
       "2        T00166      C0127      P067  2024-04-25 07:38:55         1   \n",
       "3        T00272      C0087      P067  2024-03-26 22:55:37         2   \n",
       "4        T00363      C0070      P067  2024-03-21 15:10:10         3   \n",
       "\n",
       "   TotalValue   Price  \n",
       "0      300.68  300.68  \n",
       "1      300.68  300.68  \n",
       "2      300.68  300.68  \n",
       "3      601.36  300.68  \n",
       "4      902.04  300.68  "
      ]
     },
     "execution_count": 179,
     "metadata": {},
     "output_type": "execute_result"
    }
   ],
   "source": [
    "transactions_df.head()"
   ]
  },
  {
   "cell_type": "code",
   "execution_count": 180,
   "id": "9b589b59-edd2-4a15-9e29-9e7ad095d4ed",
   "metadata": {},
   "outputs": [
    {
     "name": "stdout",
     "output_type": "stream",
     "text": [
      "<class 'pandas.core.frame.DataFrame'>\n",
      "RangeIndex: 1000 entries, 0 to 999\n",
      "Data columns (total 7 columns):\n",
      " #   Column           Non-Null Count  Dtype  \n",
      "---  ------           --------------  -----  \n",
      " 0   TransactionID    1000 non-null   object \n",
      " 1   CustomerID       1000 non-null   object \n",
      " 2   ProductID        1000 non-null   object \n",
      " 3   TransactionDate  1000 non-null   object \n",
      " 4   Quantity         1000 non-null   int64  \n",
      " 5   TotalValue       1000 non-null   float64\n",
      " 6   Price            1000 non-null   float64\n",
      "dtypes: float64(2), int64(1), object(4)\n",
      "memory usage: 54.8+ KB\n"
     ]
    }
   ],
   "source": [
    "transactions_df.info()"
   ]
  },
  {
   "cell_type": "code",
   "execution_count": 181,
   "id": "6a0cb327-eea7-4e37-b964-fe42043d7719",
   "metadata": {},
   "outputs": [
    {
     "name": "stdout",
     "output_type": "stream",
     "text": [
      "(200, 4)\n",
      "(100, 4)\n",
      "(1000, 7)\n"
     ]
    }
   ],
   "source": [
    "print(customers_df.shape)\n",
    "print(products_df.shape)\n",
    "print(transactions_df.shape)"
   ]
  },
  {
   "cell_type": "markdown",
   "id": "882109c9-7f14-4add-9806-d56101a67663",
   "metadata": {},
   "source": [
    "## Merge files"
   ]
  },
  {
   "cell_type": "code",
   "execution_count": 182,
   "id": "321b2504-f064-44a4-bc40-4810c06897ee",
   "metadata": {},
   "outputs": [],
   "source": [
    "merged_df = pd.merge(transactions_df, customers_df, on=\"CustomerID\", how=\"left\")"
   ]
  },
  {
   "cell_type": "code",
   "execution_count": 183,
   "id": "ec715ea6-abe4-4986-8ebb-355c47676aba",
   "metadata": {},
   "outputs": [],
   "source": [
    "merged_df = pd.merge(merged_df, products_df, on=\"ProductID\", how=\"left\")"
   ]
  },
  {
   "cell_type": "code",
   "execution_count": 184,
   "id": "8f02acd3-d758-4b05-8d60-c2dd9901fb7f",
   "metadata": {},
   "outputs": [
    {
     "data": {
      "text/html": [
       "<div>\n",
       "<style scoped>\n",
       "    .dataframe tbody tr th:only-of-type {\n",
       "        vertical-align: middle;\n",
       "    }\n",
       "\n",
       "    .dataframe tbody tr th {\n",
       "        vertical-align: top;\n",
       "    }\n",
       "\n",
       "    .dataframe thead th {\n",
       "        text-align: right;\n",
       "    }\n",
       "</style>\n",
       "<table border=\"1\" class=\"dataframe\">\n",
       "  <thead>\n",
       "    <tr style=\"text-align: right;\">\n",
       "      <th></th>\n",
       "      <th>TransactionID</th>\n",
       "      <th>CustomerID</th>\n",
       "      <th>ProductID</th>\n",
       "      <th>TransactionDate</th>\n",
       "      <th>Quantity</th>\n",
       "      <th>TotalValue</th>\n",
       "      <th>Price_x</th>\n",
       "      <th>CustomerName</th>\n",
       "      <th>Region</th>\n",
       "      <th>SignupDate</th>\n",
       "      <th>ProductName</th>\n",
       "      <th>Category</th>\n",
       "      <th>Price_y</th>\n",
       "    </tr>\n",
       "  </thead>\n",
       "  <tbody>\n",
       "    <tr>\n",
       "      <th>0</th>\n",
       "      <td>T00001</td>\n",
       "      <td>C0199</td>\n",
       "      <td>P067</td>\n",
       "      <td>2024-08-25 12:38:23</td>\n",
       "      <td>1</td>\n",
       "      <td>300.68</td>\n",
       "      <td>300.68</td>\n",
       "      <td>Andrea Jenkins</td>\n",
       "      <td>Europe</td>\n",
       "      <td>2022-12-03</td>\n",
       "      <td>ComfortLiving Bluetooth Speaker</td>\n",
       "      <td>Electronics</td>\n",
       "      <td>300.68</td>\n",
       "    </tr>\n",
       "    <tr>\n",
       "      <th>1</th>\n",
       "      <td>T00112</td>\n",
       "      <td>C0146</td>\n",
       "      <td>P067</td>\n",
       "      <td>2024-05-27 22:23:54</td>\n",
       "      <td>1</td>\n",
       "      <td>300.68</td>\n",
       "      <td>300.68</td>\n",
       "      <td>Brittany Harvey</td>\n",
       "      <td>Asia</td>\n",
       "      <td>2024-09-04</td>\n",
       "      <td>ComfortLiving Bluetooth Speaker</td>\n",
       "      <td>Electronics</td>\n",
       "      <td>300.68</td>\n",
       "    </tr>\n",
       "    <tr>\n",
       "      <th>2</th>\n",
       "      <td>T00166</td>\n",
       "      <td>C0127</td>\n",
       "      <td>P067</td>\n",
       "      <td>2024-04-25 07:38:55</td>\n",
       "      <td>1</td>\n",
       "      <td>300.68</td>\n",
       "      <td>300.68</td>\n",
       "      <td>Kathryn Stevens</td>\n",
       "      <td>Europe</td>\n",
       "      <td>2024-04-04</td>\n",
       "      <td>ComfortLiving Bluetooth Speaker</td>\n",
       "      <td>Electronics</td>\n",
       "      <td>300.68</td>\n",
       "    </tr>\n",
       "    <tr>\n",
       "      <th>3</th>\n",
       "      <td>T00272</td>\n",
       "      <td>C0087</td>\n",
       "      <td>P067</td>\n",
       "      <td>2024-03-26 22:55:37</td>\n",
       "      <td>2</td>\n",
       "      <td>601.36</td>\n",
       "      <td>300.68</td>\n",
       "      <td>Travis Campbell</td>\n",
       "      <td>South America</td>\n",
       "      <td>2024-04-11</td>\n",
       "      <td>ComfortLiving Bluetooth Speaker</td>\n",
       "      <td>Electronics</td>\n",
       "      <td>300.68</td>\n",
       "    </tr>\n",
       "    <tr>\n",
       "      <th>4</th>\n",
       "      <td>T00363</td>\n",
       "      <td>C0070</td>\n",
       "      <td>P067</td>\n",
       "      <td>2024-03-21 15:10:10</td>\n",
       "      <td>3</td>\n",
       "      <td>902.04</td>\n",
       "      <td>300.68</td>\n",
       "      <td>Timothy Perez</td>\n",
       "      <td>Europe</td>\n",
       "      <td>2022-03-15</td>\n",
       "      <td>ComfortLiving Bluetooth Speaker</td>\n",
       "      <td>Electronics</td>\n",
       "      <td>300.68</td>\n",
       "    </tr>\n",
       "    <tr>\n",
       "      <th>...</th>\n",
       "      <td>...</td>\n",
       "      <td>...</td>\n",
       "      <td>...</td>\n",
       "      <td>...</td>\n",
       "      <td>...</td>\n",
       "      <td>...</td>\n",
       "      <td>...</td>\n",
       "      <td>...</td>\n",
       "      <td>...</td>\n",
       "      <td>...</td>\n",
       "      <td>...</td>\n",
       "      <td>...</td>\n",
       "      <td>...</td>\n",
       "    </tr>\n",
       "    <tr>\n",
       "      <th>995</th>\n",
       "      <td>T00496</td>\n",
       "      <td>C0118</td>\n",
       "      <td>P037</td>\n",
       "      <td>2024-10-24 08:30:27</td>\n",
       "      <td>1</td>\n",
       "      <td>459.86</td>\n",
       "      <td>459.86</td>\n",
       "      <td>Jacob Holt</td>\n",
       "      <td>South America</td>\n",
       "      <td>2022-01-22</td>\n",
       "      <td>SoundWave Smartwatch</td>\n",
       "      <td>Electronics</td>\n",
       "      <td>459.86</td>\n",
       "    </tr>\n",
       "    <tr>\n",
       "      <th>996</th>\n",
       "      <td>T00759</td>\n",
       "      <td>C0059</td>\n",
       "      <td>P037</td>\n",
       "      <td>2024-06-04 02:15:24</td>\n",
       "      <td>3</td>\n",
       "      <td>1379.58</td>\n",
       "      <td>459.86</td>\n",
       "      <td>Mrs. Kimberly Wright</td>\n",
       "      <td>North America</td>\n",
       "      <td>2024-04-07</td>\n",
       "      <td>SoundWave Smartwatch</td>\n",
       "      <td>Electronics</td>\n",
       "      <td>459.86</td>\n",
       "    </tr>\n",
       "    <tr>\n",
       "      <th>997</th>\n",
       "      <td>T00922</td>\n",
       "      <td>C0018</td>\n",
       "      <td>P037</td>\n",
       "      <td>2024-04-05 13:05:32</td>\n",
       "      <td>4</td>\n",
       "      <td>1839.44</td>\n",
       "      <td>459.86</td>\n",
       "      <td>Tyler Haynes</td>\n",
       "      <td>North America</td>\n",
       "      <td>2024-09-21</td>\n",
       "      <td>SoundWave Smartwatch</td>\n",
       "      <td>Electronics</td>\n",
       "      <td>459.86</td>\n",
       "    </tr>\n",
       "    <tr>\n",
       "      <th>998</th>\n",
       "      <td>T00959</td>\n",
       "      <td>C0115</td>\n",
       "      <td>P037</td>\n",
       "      <td>2024-09-29 10:16:02</td>\n",
       "      <td>2</td>\n",
       "      <td>919.72</td>\n",
       "      <td>459.86</td>\n",
       "      <td>Joshua Hamilton</td>\n",
       "      <td>Asia</td>\n",
       "      <td>2024-11-11</td>\n",
       "      <td>SoundWave Smartwatch</td>\n",
       "      <td>Electronics</td>\n",
       "      <td>459.86</td>\n",
       "    </tr>\n",
       "    <tr>\n",
       "      <th>999</th>\n",
       "      <td>T00992</td>\n",
       "      <td>C0024</td>\n",
       "      <td>P037</td>\n",
       "      <td>2024-04-21 10:52:24</td>\n",
       "      <td>1</td>\n",
       "      <td>459.86</td>\n",
       "      <td>459.86</td>\n",
       "      <td>Michele Cooley</td>\n",
       "      <td>North America</td>\n",
       "      <td>2024-02-05</td>\n",
       "      <td>SoundWave Smartwatch</td>\n",
       "      <td>Electronics</td>\n",
       "      <td>459.86</td>\n",
       "    </tr>\n",
       "  </tbody>\n",
       "</table>\n",
       "<p>1000 rows × 13 columns</p>\n",
       "</div>"
      ],
      "text/plain": [
       "    TransactionID CustomerID ProductID      TransactionDate  Quantity  \\\n",
       "0          T00001      C0199      P067  2024-08-25 12:38:23         1   \n",
       "1          T00112      C0146      P067  2024-05-27 22:23:54         1   \n",
       "2          T00166      C0127      P067  2024-04-25 07:38:55         1   \n",
       "3          T00272      C0087      P067  2024-03-26 22:55:37         2   \n",
       "4          T00363      C0070      P067  2024-03-21 15:10:10         3   \n",
       "..            ...        ...       ...                  ...       ...   \n",
       "995        T00496      C0118      P037  2024-10-24 08:30:27         1   \n",
       "996        T00759      C0059      P037  2024-06-04 02:15:24         3   \n",
       "997        T00922      C0018      P037  2024-04-05 13:05:32         4   \n",
       "998        T00959      C0115      P037  2024-09-29 10:16:02         2   \n",
       "999        T00992      C0024      P037  2024-04-21 10:52:24         1   \n",
       "\n",
       "     TotalValue  Price_x          CustomerName         Region  SignupDate  \\\n",
       "0        300.68   300.68        Andrea Jenkins         Europe  2022-12-03   \n",
       "1        300.68   300.68       Brittany Harvey           Asia  2024-09-04   \n",
       "2        300.68   300.68       Kathryn Stevens         Europe  2024-04-04   \n",
       "3        601.36   300.68       Travis Campbell  South America  2024-04-11   \n",
       "4        902.04   300.68         Timothy Perez         Europe  2022-03-15   \n",
       "..          ...      ...                   ...            ...         ...   \n",
       "995      459.86   459.86            Jacob Holt  South America  2022-01-22   \n",
       "996     1379.58   459.86  Mrs. Kimberly Wright  North America  2024-04-07   \n",
       "997     1839.44   459.86          Tyler Haynes  North America  2024-09-21   \n",
       "998      919.72   459.86       Joshua Hamilton           Asia  2024-11-11   \n",
       "999      459.86   459.86        Michele Cooley  North America  2024-02-05   \n",
       "\n",
       "                         ProductName     Category  Price_y  \n",
       "0    ComfortLiving Bluetooth Speaker  Electronics   300.68  \n",
       "1    ComfortLiving Bluetooth Speaker  Electronics   300.68  \n",
       "2    ComfortLiving Bluetooth Speaker  Electronics   300.68  \n",
       "3    ComfortLiving Bluetooth Speaker  Electronics   300.68  \n",
       "4    ComfortLiving Bluetooth Speaker  Electronics   300.68  \n",
       "..                               ...          ...      ...  \n",
       "995             SoundWave Smartwatch  Electronics   459.86  \n",
       "996             SoundWave Smartwatch  Electronics   459.86  \n",
       "997             SoundWave Smartwatch  Electronics   459.86  \n",
       "998             SoundWave Smartwatch  Electronics   459.86  \n",
       "999             SoundWave Smartwatch  Electronics   459.86  \n",
       "\n",
       "[1000 rows x 13 columns]"
      ]
     },
     "execution_count": 184,
     "metadata": {},
     "output_type": "execute_result"
    }
   ],
   "source": [
    "merged_df"
   ]
  },
  {
   "cell_type": "code",
   "execution_count": 185,
   "id": "5c6a0892-f86a-49dd-a713-b5240add38d6",
   "metadata": {},
   "outputs": [
    {
     "name": "stdout",
     "output_type": "stream",
     "text": [
      "<class 'pandas.core.frame.DataFrame'>\n",
      "RangeIndex: 1000 entries, 0 to 999\n",
      "Data columns (total 13 columns):\n",
      " #   Column           Non-Null Count  Dtype  \n",
      "---  ------           --------------  -----  \n",
      " 0   TransactionID    1000 non-null   object \n",
      " 1   CustomerID       1000 non-null   object \n",
      " 2   ProductID        1000 non-null   object \n",
      " 3   TransactionDate  1000 non-null   object \n",
      " 4   Quantity         1000 non-null   int64  \n",
      " 5   TotalValue       1000 non-null   float64\n",
      " 6   Price_x          1000 non-null   float64\n",
      " 7   CustomerName     1000 non-null   object \n",
      " 8   Region           1000 non-null   object \n",
      " 9   SignupDate       1000 non-null   object \n",
      " 10  ProductName      1000 non-null   object \n",
      " 11  Category         1000 non-null   object \n",
      " 12  Price_y          1000 non-null   float64\n",
      "dtypes: float64(3), int64(1), object(9)\n",
      "memory usage: 101.7+ KB\n"
     ]
    }
   ],
   "source": [
    "merged_df.info()"
   ]
  },
  {
   "cell_type": "code",
   "execution_count": 186,
   "id": "c2f1f356-e1af-4952-849b-4cc92ae0497a",
   "metadata": {},
   "outputs": [],
   "source": [
    "merged_df.to_csv(\"Merged_Data.csv\", index=False)"
   ]
  },
  {
   "cell_type": "markdown",
   "id": "05428ffa-cf9c-4aa3-83bc-9b752f5dfa99",
   "metadata": {},
   "source": [
    "## Basic pre-processing"
   ]
  },
  {
   "cell_type": "code",
   "execution_count": 187,
   "id": "9ead9880-59ce-4ec9-a872-6065fd4bf46b",
   "metadata": {},
   "outputs": [
    {
     "data": {
      "text/plain": [
       "0"
      ]
     },
     "execution_count": 187,
     "metadata": {},
     "output_type": "execute_result"
    }
   ],
   "source": [
    "merged_df.duplicated().sum()"
   ]
  },
  {
   "cell_type": "code",
   "execution_count": 188,
   "id": "6f69dace-9baf-4034-99fe-8c45b268efeb",
   "metadata": {},
   "outputs": [],
   "source": [
    "merged_df = merged_df.drop(columns='Price_y')"
   ]
  },
  {
   "cell_type": "code",
   "execution_count": 189,
   "id": "e8bf6d69-1cfc-4c44-a113-db4f6482d5be",
   "metadata": {},
   "outputs": [],
   "source": [
    "merged_df['SignupDate'] = pd.to_datetime(merged_df['SignupDate'])\n",
    "merged_df[\"TransactionDate\"] = pd.to_datetime(merged_df[\"TransactionDate\"])"
   ]
  },
  {
   "cell_type": "markdown",
   "id": "08890a5a-fb6e-4bc3-af4b-33adfe31ea03",
   "metadata": {},
   "source": [
    "## EDA"
   ]
  },
  {
   "cell_type": "code",
   "execution_count": 190,
   "id": "55ea0d7c-7b2d-4359-9728-1a6e7a456857",
   "metadata": {},
   "outputs": [],
   "source": [
    "# Extracting transanction month and Hour separately\n",
    "merged_df[\"Month\"] = merged_df[\"TransactionDate\"].dt.month\n",
    "merged_df[\"Hour\"] = merged_df[\"TransactionDate\"].dt.hour"
   ]
  },
  {
   "cell_type": "code",
   "execution_count": 191,
   "id": "0a80c0c0-05a2-46db-b07f-c52831e64c15",
   "metadata": {},
   "outputs": [],
   "source": [
    "merged_df = merged_df.drop(columns='TransactionDate')"
   ]
  },
  {
   "cell_type": "code",
   "execution_count": 192,
   "id": "e2317dfe-cb5f-4518-8a1a-64349a1c966f",
   "metadata": {},
   "outputs": [
    {
     "data": {
      "text/html": [
       "<div>\n",
       "<style scoped>\n",
       "    .dataframe tbody tr th:only-of-type {\n",
       "        vertical-align: middle;\n",
       "    }\n",
       "\n",
       "    .dataframe tbody tr th {\n",
       "        vertical-align: top;\n",
       "    }\n",
       "\n",
       "    .dataframe thead th {\n",
       "        text-align: right;\n",
       "    }\n",
       "</style>\n",
       "<table border=\"1\" class=\"dataframe\">\n",
       "  <thead>\n",
       "    <tr style=\"text-align: right;\">\n",
       "      <th></th>\n",
       "      <th>TransactionID</th>\n",
       "      <th>CustomerID</th>\n",
       "      <th>ProductID</th>\n",
       "      <th>Quantity</th>\n",
       "      <th>TotalValue</th>\n",
       "      <th>Price_x</th>\n",
       "      <th>CustomerName</th>\n",
       "      <th>Region</th>\n",
       "      <th>SignupDate</th>\n",
       "      <th>ProductName</th>\n",
       "      <th>Category</th>\n",
       "      <th>Month</th>\n",
       "      <th>Hour</th>\n",
       "    </tr>\n",
       "  </thead>\n",
       "  <tbody>\n",
       "    <tr>\n",
       "      <th>0</th>\n",
       "      <td>T00001</td>\n",
       "      <td>C0199</td>\n",
       "      <td>P067</td>\n",
       "      <td>1</td>\n",
       "      <td>300.68</td>\n",
       "      <td>300.68</td>\n",
       "      <td>Andrea Jenkins</td>\n",
       "      <td>Europe</td>\n",
       "      <td>2022-12-03</td>\n",
       "      <td>ComfortLiving Bluetooth Speaker</td>\n",
       "      <td>Electronics</td>\n",
       "      <td>8</td>\n",
       "      <td>12</td>\n",
       "    </tr>\n",
       "    <tr>\n",
       "      <th>1</th>\n",
       "      <td>T00112</td>\n",
       "      <td>C0146</td>\n",
       "      <td>P067</td>\n",
       "      <td>1</td>\n",
       "      <td>300.68</td>\n",
       "      <td>300.68</td>\n",
       "      <td>Brittany Harvey</td>\n",
       "      <td>Asia</td>\n",
       "      <td>2024-09-04</td>\n",
       "      <td>ComfortLiving Bluetooth Speaker</td>\n",
       "      <td>Electronics</td>\n",
       "      <td>5</td>\n",
       "      <td>22</td>\n",
       "    </tr>\n",
       "    <tr>\n",
       "      <th>2</th>\n",
       "      <td>T00166</td>\n",
       "      <td>C0127</td>\n",
       "      <td>P067</td>\n",
       "      <td>1</td>\n",
       "      <td>300.68</td>\n",
       "      <td>300.68</td>\n",
       "      <td>Kathryn Stevens</td>\n",
       "      <td>Europe</td>\n",
       "      <td>2024-04-04</td>\n",
       "      <td>ComfortLiving Bluetooth Speaker</td>\n",
       "      <td>Electronics</td>\n",
       "      <td>4</td>\n",
       "      <td>7</td>\n",
       "    </tr>\n",
       "    <tr>\n",
       "      <th>3</th>\n",
       "      <td>T00272</td>\n",
       "      <td>C0087</td>\n",
       "      <td>P067</td>\n",
       "      <td>2</td>\n",
       "      <td>601.36</td>\n",
       "      <td>300.68</td>\n",
       "      <td>Travis Campbell</td>\n",
       "      <td>South America</td>\n",
       "      <td>2024-04-11</td>\n",
       "      <td>ComfortLiving Bluetooth Speaker</td>\n",
       "      <td>Electronics</td>\n",
       "      <td>3</td>\n",
       "      <td>22</td>\n",
       "    </tr>\n",
       "    <tr>\n",
       "      <th>4</th>\n",
       "      <td>T00363</td>\n",
       "      <td>C0070</td>\n",
       "      <td>P067</td>\n",
       "      <td>3</td>\n",
       "      <td>902.04</td>\n",
       "      <td>300.68</td>\n",
       "      <td>Timothy Perez</td>\n",
       "      <td>Europe</td>\n",
       "      <td>2022-03-15</td>\n",
       "      <td>ComfortLiving Bluetooth Speaker</td>\n",
       "      <td>Electronics</td>\n",
       "      <td>3</td>\n",
       "      <td>15</td>\n",
       "    </tr>\n",
       "    <tr>\n",
       "      <th>...</th>\n",
       "      <td>...</td>\n",
       "      <td>...</td>\n",
       "      <td>...</td>\n",
       "      <td>...</td>\n",
       "      <td>...</td>\n",
       "      <td>...</td>\n",
       "      <td>...</td>\n",
       "      <td>...</td>\n",
       "      <td>...</td>\n",
       "      <td>...</td>\n",
       "      <td>...</td>\n",
       "      <td>...</td>\n",
       "      <td>...</td>\n",
       "    </tr>\n",
       "    <tr>\n",
       "      <th>995</th>\n",
       "      <td>T00496</td>\n",
       "      <td>C0118</td>\n",
       "      <td>P037</td>\n",
       "      <td>1</td>\n",
       "      <td>459.86</td>\n",
       "      <td>459.86</td>\n",
       "      <td>Jacob Holt</td>\n",
       "      <td>South America</td>\n",
       "      <td>2022-01-22</td>\n",
       "      <td>SoundWave Smartwatch</td>\n",
       "      <td>Electronics</td>\n",
       "      <td>10</td>\n",
       "      <td>8</td>\n",
       "    </tr>\n",
       "    <tr>\n",
       "      <th>996</th>\n",
       "      <td>T00759</td>\n",
       "      <td>C0059</td>\n",
       "      <td>P037</td>\n",
       "      <td>3</td>\n",
       "      <td>1379.58</td>\n",
       "      <td>459.86</td>\n",
       "      <td>Mrs. Kimberly Wright</td>\n",
       "      <td>North America</td>\n",
       "      <td>2024-04-07</td>\n",
       "      <td>SoundWave Smartwatch</td>\n",
       "      <td>Electronics</td>\n",
       "      <td>6</td>\n",
       "      <td>2</td>\n",
       "    </tr>\n",
       "    <tr>\n",
       "      <th>997</th>\n",
       "      <td>T00922</td>\n",
       "      <td>C0018</td>\n",
       "      <td>P037</td>\n",
       "      <td>4</td>\n",
       "      <td>1839.44</td>\n",
       "      <td>459.86</td>\n",
       "      <td>Tyler Haynes</td>\n",
       "      <td>North America</td>\n",
       "      <td>2024-09-21</td>\n",
       "      <td>SoundWave Smartwatch</td>\n",
       "      <td>Electronics</td>\n",
       "      <td>4</td>\n",
       "      <td>13</td>\n",
       "    </tr>\n",
       "    <tr>\n",
       "      <th>998</th>\n",
       "      <td>T00959</td>\n",
       "      <td>C0115</td>\n",
       "      <td>P037</td>\n",
       "      <td>2</td>\n",
       "      <td>919.72</td>\n",
       "      <td>459.86</td>\n",
       "      <td>Joshua Hamilton</td>\n",
       "      <td>Asia</td>\n",
       "      <td>2024-11-11</td>\n",
       "      <td>SoundWave Smartwatch</td>\n",
       "      <td>Electronics</td>\n",
       "      <td>9</td>\n",
       "      <td>10</td>\n",
       "    </tr>\n",
       "    <tr>\n",
       "      <th>999</th>\n",
       "      <td>T00992</td>\n",
       "      <td>C0024</td>\n",
       "      <td>P037</td>\n",
       "      <td>1</td>\n",
       "      <td>459.86</td>\n",
       "      <td>459.86</td>\n",
       "      <td>Michele Cooley</td>\n",
       "      <td>North America</td>\n",
       "      <td>2024-02-05</td>\n",
       "      <td>SoundWave Smartwatch</td>\n",
       "      <td>Electronics</td>\n",
       "      <td>4</td>\n",
       "      <td>10</td>\n",
       "    </tr>\n",
       "  </tbody>\n",
       "</table>\n",
       "<p>1000 rows × 13 columns</p>\n",
       "</div>"
      ],
      "text/plain": [
       "    TransactionID CustomerID ProductID  Quantity  TotalValue  Price_x  \\\n",
       "0          T00001      C0199      P067         1      300.68   300.68   \n",
       "1          T00112      C0146      P067         1      300.68   300.68   \n",
       "2          T00166      C0127      P067         1      300.68   300.68   \n",
       "3          T00272      C0087      P067         2      601.36   300.68   \n",
       "4          T00363      C0070      P067         3      902.04   300.68   \n",
       "..            ...        ...       ...       ...         ...      ...   \n",
       "995        T00496      C0118      P037         1      459.86   459.86   \n",
       "996        T00759      C0059      P037         3     1379.58   459.86   \n",
       "997        T00922      C0018      P037         4     1839.44   459.86   \n",
       "998        T00959      C0115      P037         2      919.72   459.86   \n",
       "999        T00992      C0024      P037         1      459.86   459.86   \n",
       "\n",
       "             CustomerName         Region SignupDate  \\\n",
       "0          Andrea Jenkins         Europe 2022-12-03   \n",
       "1         Brittany Harvey           Asia 2024-09-04   \n",
       "2         Kathryn Stevens         Europe 2024-04-04   \n",
       "3         Travis Campbell  South America 2024-04-11   \n",
       "4           Timothy Perez         Europe 2022-03-15   \n",
       "..                    ...            ...        ...   \n",
       "995            Jacob Holt  South America 2022-01-22   \n",
       "996  Mrs. Kimberly Wright  North America 2024-04-07   \n",
       "997          Tyler Haynes  North America 2024-09-21   \n",
       "998       Joshua Hamilton           Asia 2024-11-11   \n",
       "999        Michele Cooley  North America 2024-02-05   \n",
       "\n",
       "                         ProductName     Category  Month  Hour  \n",
       "0    ComfortLiving Bluetooth Speaker  Electronics      8    12  \n",
       "1    ComfortLiving Bluetooth Speaker  Electronics      5    22  \n",
       "2    ComfortLiving Bluetooth Speaker  Electronics      4     7  \n",
       "3    ComfortLiving Bluetooth Speaker  Electronics      3    22  \n",
       "4    ComfortLiving Bluetooth Speaker  Electronics      3    15  \n",
       "..                               ...          ...    ...   ...  \n",
       "995             SoundWave Smartwatch  Electronics     10     8  \n",
       "996             SoundWave Smartwatch  Electronics      6     2  \n",
       "997             SoundWave Smartwatch  Electronics      4    13  \n",
       "998             SoundWave Smartwatch  Electronics      9    10  \n",
       "999             SoundWave Smartwatch  Electronics      4    10  \n",
       "\n",
       "[1000 rows x 13 columns]"
      ]
     },
     "execution_count": 192,
     "metadata": {},
     "output_type": "execute_result"
    }
   ],
   "source": [
    "merged_df"
   ]
  },
  {
   "cell_type": "code",
   "execution_count": 193,
   "id": "b35d1e4f-c04d-45f6-8de4-fc4d723335ee",
   "metadata": {},
   "outputs": [
    {
     "name": "stdout",
     "output_type": "stream",
     "text": [
      "<class 'pandas.core.frame.DataFrame'>\n",
      "RangeIndex: 1000 entries, 0 to 999\n",
      "Data columns (total 13 columns):\n",
      " #   Column         Non-Null Count  Dtype         \n",
      "---  ------         --------------  -----         \n",
      " 0   TransactionID  1000 non-null   object        \n",
      " 1   CustomerID     1000 non-null   object        \n",
      " 2   ProductID      1000 non-null   object        \n",
      " 3   Quantity       1000 non-null   int64         \n",
      " 4   TotalValue     1000 non-null   float64       \n",
      " 5   Price_x        1000 non-null   float64       \n",
      " 6   CustomerName   1000 non-null   object        \n",
      " 7   Region         1000 non-null   object        \n",
      " 8   SignupDate     1000 non-null   datetime64[ns]\n",
      " 9   ProductName    1000 non-null   object        \n",
      " 10  Category       1000 non-null   object        \n",
      " 11  Month          1000 non-null   int32         \n",
      " 12  Hour           1000 non-null   int32         \n",
      "dtypes: datetime64[ns](1), float64(2), int32(2), int64(1), object(7)\n",
      "memory usage: 93.9+ KB\n"
     ]
    }
   ],
   "source": [
    "merged_df.info()"
   ]
  },
  {
   "cell_type": "markdown",
   "id": "0d6be20d-a171-4ecd-b52f-1bc3577e2e60",
   "metadata": {},
   "source": [
    "## 1. Analyze Peak Seasons"
   ]
  },
  {
   "cell_type": "code",
   "execution_count": 194,
   "id": "6bcb7cca-33e0-429f-b420-44f5287d6541",
   "metadata": {},
   "outputs": [
    {
     "name": "stdout",
     "output_type": "stream",
     "text": [
      "Month\n",
      "7     71366.39\n",
      "9     70603.75\n",
      "1     66376.39\n",
      "5     64527.74\n",
      "8     63436.74\n",
      "12    62818.72\n",
      "4     57519.06\n",
      "2     51459.27\n",
      "6     48771.18\n",
      "3     47828.73\n",
      "10    47063.22\n",
      "11    38224.37\n",
      "Name: TotalValue, dtype: float64\n"
     ]
    }
   ],
   "source": [
    "# Group by Month\n",
    "monthly_sales = merged_df.groupby(\"Month\")[\"TotalValue\"].sum().sort_values(ascending=False)\n",
    "\n",
    "# Display peak months\n",
    "print(monthly_sales)"
   ]
  },
  {
   "cell_type": "code",
   "execution_count": 195,
   "id": "f78040c2-feeb-4102-89e9-a6a99ce2d21e",
   "metadata": {},
   "outputs": [
    {
     "data": {
      "image/png": "[encoded data removed]",
      "text/plain": [
       "<Figure size 800x400 with 1 Axes>"
      ]
     },
     "metadata": {},
     "output_type": "display_data"
    }
   ],
   "source": [
    "# Month names in order\n",
    "month_names = [\"Jan\", \"Feb\", \"Mar\", \"Apr\", \"May\", \"Jun\", \"Jul\", \"Aug\", \"Sep\", \"Oct\", \"Nov\", \"Dec\"]\n",
    "\n",
    "# Reorder the months based on sorted values\n",
    "sorted_month_names = [month_names[i-1] for i in monthly_sales.index]\n",
    "\n",
    "# Plot the sorted sales\n",
    "plt.figure(figsize=(8, 4))\n",
    "sns.barplot(x=sorted_month_names, y=monthly_sales.values, palette=\"Blues_d\")\n",
    "plt.title(\"Monthly Sales (Peak Seasons)\", fontsize=16)\n",
    "plt.xlabel(\"Month\", fontsize=12)\n",
    "plt.ylabel(\"Total Sales (USD)\", fontsize=12)\n",
    "plt.xticks(rotation=45)\n",
    "plt.show()"
   ]
  },
  {
   "cell_type": "code",
   "execution_count": 196,
   "id": "f419a794-8de6-400f-aa53-e52755f426bd",
   "metadata": {},
   "outputs": [],
   "source": [
    "# Group by Hour\n",
    "hourly_sales = merged_df.groupby(\"Hour\")[\"TotalValue\"].sum().sort_values(ascending=False)"
   ]
  },
  {
   "cell_type": "code",
   "execution_count": 197,
   "id": "10478520-a5e3-4616-97b4-4f445b1b5e3c",
   "metadata": {},
   "outputs": [
    {
     "data": {
      "image/png": "[encoded data removed]",
      "text/plain": [
       "<Figure size 800x400 with 1 Axes>"
      ]
     },
     "metadata": {},
     "output_type": "display_data"
    }
   ],
   "source": [
    "# Plot hourly sales\n",
    "plt.figure(figsize=(8, 4))\n",
    "sns.lineplot(x=hourly_sales.index, y=hourly_sales.values, marker=\"o\", color=\"b\")\n",
    "plt.title(\"Hourly Sales (Peak Hours)\", fontsize=16)\n",
    "plt.xlabel(\"Hour of Day\", fontsize=12)\n",
    "plt.ylabel(\"Total Sales (USD)\", fontsize=12)\n",
    "plt.xticks(range(0, 24))\n",
    "plt.grid(True)\n",
    "plt.show()"
   ]
  },
  {
   "cell_type": "markdown",
   "id": "78ef5fca-ff04-4794-91ca-fb0178c9aa59",
   "metadata": {},
   "source": [
    "## 2. Product Performance Analysis"
   ]
  },
  {
   "cell_type": "code",
   "execution_count": 198,
   "id": "cdb29cc5-77d4-4dfd-a15c-8cc0e2276bc0",
   "metadata": {},
   "outputs": [],
   "source": [
    "top_products = merged_df.groupby(\"ProductID\")[\"TotalValue\"].sum().sort_values(ascending=False)"
   ]
  },
  {
   "cell_type": "code",
   "execution_count": 199,
   "id": "3e0a97c6-a9fb-4a74-af82-42ab3f829eea",
   "metadata": {},
   "outputs": [],
   "source": [
    "# Merge back product names for interpretation\n",
    "top_products = pd.merge(top_products, products_df[[\"ProductID\", \"ProductName\",\"Category\",\"Price\"]], on=\"ProductID\")"
   ]
  },
  {
   "cell_type": "code",
   "execution_count": 200,
   "id": "5a8640f3-272f-4d51-9d34-e0945c34d5ec",
   "metadata": {},
   "outputs": [
    {
     "data": {
      "text/html": [
       "<div>\n",
       "<style scoped>\n",
       "    .dataframe tbody tr th:only-of-type {\n",
       "        vertical-align: middle;\n",
       "    }\n",
       "\n",
       "    .dataframe tbody tr th {\n",
       "        vertical-align: top;\n",
       "    }\n",
       "\n",
       "    .dataframe thead th {\n",
       "        text-align: right;\n",
       "    }\n",
       "</style>\n",
       "<table border=\"1\" class=\"dataframe\">\n",
       "  <thead>\n",
       "    <tr style=\"text-align: right;\">\n",
       "      <th></th>\n",
       "      <th>ProductID</th>\n",
       "      <th>TotalValue</th>\n",
       "      <th>ProductName</th>\n",
       "      <th>Category</th>\n",
       "      <th>Price</th>\n",
       "    </tr>\n",
       "  </thead>\n",
       "  <tbody>\n",
       "    <tr>\n",
       "      <th>0</th>\n",
       "      <td>P029</td>\n",
       "      <td>19513.80</td>\n",
       "      <td>TechPro Headphones</td>\n",
       "      <td>Electronics</td>\n",
       "      <td>433.64</td>\n",
       "    </tr>\n",
       "    <tr>\n",
       "      <th>1</th>\n",
       "      <td>P079</td>\n",
       "      <td>17946.91</td>\n",
       "      <td>ActiveWear Rug</td>\n",
       "      <td>Home Decor</td>\n",
       "      <td>417.37</td>\n",
       "    </tr>\n",
       "    <tr>\n",
       "      <th>2</th>\n",
       "      <td>P048</td>\n",
       "      <td>17905.20</td>\n",
       "      <td>TechPro Cookbook</td>\n",
       "      <td>Books</td>\n",
       "      <td>416.40</td>\n",
       "    </tr>\n",
       "    <tr>\n",
       "      <th>3</th>\n",
       "      <td>P020</td>\n",
       "      <td>15060.92</td>\n",
       "      <td>ActiveWear Jacket</td>\n",
       "      <td>Clothing</td>\n",
       "      <td>396.34</td>\n",
       "    </tr>\n",
       "    <tr>\n",
       "      <th>4</th>\n",
       "      <td>P062</td>\n",
       "      <td>14592.24</td>\n",
       "      <td>HomeSense Novel</td>\n",
       "      <td>Books</td>\n",
       "      <td>374.16</td>\n",
       "    </tr>\n",
       "    <tr>\n",
       "      <th>5</th>\n",
       "      <td>P059</td>\n",
       "      <td>13947.20</td>\n",
       "      <td>SoundWave Jeans</td>\n",
       "      <td>Clothing</td>\n",
       "      <td>303.20</td>\n",
       "    </tr>\n",
       "    <tr>\n",
       "      <th>6</th>\n",
       "      <td>P039</td>\n",
       "      <td>13778.88</td>\n",
       "      <td>TechPro Smartwatch</td>\n",
       "      <td>Electronics</td>\n",
       "      <td>430.59</td>\n",
       "    </tr>\n",
       "    <tr>\n",
       "      <th>7</th>\n",
       "      <td>P083</td>\n",
       "      <td>13671.60</td>\n",
       "      <td>ActiveWear Smartwatch</td>\n",
       "      <td>Electronics</td>\n",
       "      <td>455.72</td>\n",
       "    </tr>\n",
       "    <tr>\n",
       "      <th>8</th>\n",
       "      <td>P019</td>\n",
       "      <td>13487.95</td>\n",
       "      <td>ComfortLiving Sweater</td>\n",
       "      <td>Clothing</td>\n",
       "      <td>385.37</td>\n",
       "    </tr>\n",
       "    <tr>\n",
       "      <th>9</th>\n",
       "      <td>P041</td>\n",
       "      <td>13232.12</td>\n",
       "      <td>ComfortLiving Smartphone</td>\n",
       "      <td>Electronics</td>\n",
       "      <td>456.28</td>\n",
       "    </tr>\n",
       "  </tbody>\n",
       "</table>\n",
       "</div>"
      ],
      "text/plain": [
       "  ProductID  TotalValue               ProductName     Category   Price\n",
       "0      P029    19513.80        TechPro Headphones  Electronics  433.64\n",
       "1      P079    17946.91            ActiveWear Rug   Home Decor  417.37\n",
       "2      P048    17905.20          TechPro Cookbook        Books  416.40\n",
       "3      P020    15060.92         ActiveWear Jacket     Clothing  396.34\n",
       "4      P062    14592.24           HomeSense Novel        Books  374.16\n",
       "5      P059    13947.20           SoundWave Jeans     Clothing  303.20\n",
       "6      P039    13778.88        TechPro Smartwatch  Electronics  430.59\n",
       "7      P083    13671.60     ActiveWear Smartwatch  Electronics  455.72\n",
       "8      P019    13487.95     ComfortLiving Sweater     Clothing  385.37\n",
       "9      P041    13232.12  ComfortLiving Smartphone  Electronics  456.28"
      ]
     },
     "execution_count": 200,
     "metadata": {},
     "output_type": "execute_result"
    }
   ],
   "source": [
    "top_products.head(10)"
   ]
  },
  {
   "cell_type": "code",
   "execution_count": 201,
   "id": "779c36c0-6def-44de-a87b-bd16c006aa29",
   "metadata": {},
   "outputs": [
    {
     "data": {
      "text/plain": [
       "Category\n",
       "Books          270\n",
       "Electronics    254\n",
       "Home Decor     248\n",
       "Clothing       228\n",
       "Name: count, dtype: int64"
      ]
     },
     "execution_count": 201,
     "metadata": {},
     "output_type": "execute_result"
    }
   ],
   "source": [
    "merged_df['Category'].value_counts()"
   ]
  },
  {
   "cell_type": "code",
   "execution_count": 202,
   "id": "678a6aac-9d70-454f-bcec-d2d260d9116f",
   "metadata": {},
   "outputs": [],
   "source": [
    "top_product_category = merged_df.groupby('Category')['TotalValue'].sum().sort_values(ascending=False)"
   ]
  },
  {
   "cell_type": "code",
   "execution_count": 203,
   "id": "43ffd8cb-163b-4096-b4b1-c2b0ea583ad2",
   "metadata": {},
   "outputs": [
    {
     "data": {
      "text/plain": [
       "Category\n",
       "Books          192147.47\n",
       "Electronics    180783.50\n",
       "Clothing       166170.66\n",
       "Home Decor     150893.93\n",
       "Name: TotalValue, dtype: float64"
      ]
     },
     "execution_count": 203,
     "metadata": {},
     "output_type": "execute_result"
    }
   ],
   "source": [
    "top_product_category"
   ]
  },
  {
   "cell_type": "code",
   "execution_count": 204,
   "id": "3d34a4b9-bc42-4721-af62-8f13f9558084",
   "metadata": {},
   "outputs": [
    {
     "data": {
      "image/png": "[encoded data removed]",
      "text/plain": [
       "<Figure size 800x800 with 1 Axes>"
      ]
     },
     "metadata": {},
     "output_type": "display_data"
    }
   ],
   "source": [
    "plt.figure(figsize=(8, 8))  # Adjust figure size\n",
    "colors = plt.cm.Pastel1(range(len(top_product_category)))  # Custom color map\n",
    "\n",
    "top_product_category.plot(\n",
    "    kind=\"pie\",\n",
    "    autopct=\"%1.1f%%\",      # Display percentages\n",
    "    startangle=90,          # Rotate to start at the top\n",
    "    colors=colors,          # Add a color palette\n",
    "    wedgeprops={\"edgecolor\": \"black\", \"linewidth\": 1.2},  # Add borders to wedges\n",
    "    pctdistance=0.85,       # Distance of percentage labels from the center\n",
    "    textprops={\"fontsize\": 12},  # Adjust font size of text\n",
    ")\n",
    "\n",
    "# Add a central circle to give a \"donut\" effect\n",
    "# plt.gca().add_artist(plt.Circle((0, 0), 0.70, color=\"white\"))\n",
    "\n",
    "# Add title and legend\n",
    "plt.title(\"Top Product Categories by Revenue\", fontsize=16, pad=20)\n",
    "plt.legend(top_product_category.index, bbox_to_anchor=(1.2, 1.0), fontsize=10, title=\"Categories\")\n",
    "\n",
    "# Display the plot\n",
    "plt.tight_layout()  # Adjust layout to avoid overlap\n",
    "plt.show()"
   ]
  },
  {
   "cell_type": "markdown",
   "id": "f800fa21-1649-4b6b-80c4-4ad00b1a5d08",
   "metadata": {},
   "source": [
    "## 3. High-Value Customers"
   ]
  },
  {
   "cell_type": "code",
   "execution_count": 205,
   "id": "ae85eb89-c644-4c6c-9785-23ba31d44cb9",
   "metadata": {},
   "outputs": [],
   "source": [
    "# Top customers by spending\n",
    "top_customers = merged_df.groupby(\"CustomerID\")[\"TotalValue\"].sum().sort_values(ascending=False)"
   ]
  },
  {
   "cell_type": "code",
   "execution_count": 206,
   "id": "84a1c42b-a0ef-446f-91cd-23f3eaf8c749",
   "metadata": {},
   "outputs": [],
   "source": [
    "# Merge back customer names for interpretation\n",
    "top_customers = pd.merge(top_customers, customers_df[[\"CustomerID\", \"CustomerName\",'Region']], on=\"CustomerID\")"
   ]
  },
  {
   "cell_type": "code",
   "execution_count": 207,
   "id": "19c44601-8d02-41d5-b2cd-27745838fbdd",
   "metadata": {},
   "outputs": [
    {
     "data": {
      "text/html": [
       "<div>\n",
       "<style scoped>\n",
       "    .dataframe tbody tr th:only-of-type {\n",
       "        vertical-align: middle;\n",
       "    }\n",
       "\n",
       "    .dataframe tbody tr th {\n",
       "        vertical-align: top;\n",
       "    }\n",
       "\n",
       "    .dataframe thead th {\n",
       "        text-align: right;\n",
       "    }\n",
       "</style>\n",
       "<table border=\"1\" class=\"dataframe\">\n",
       "  <thead>\n",
       "    <tr style=\"text-align: right;\">\n",
       "      <th></th>\n",
       "      <th>CustomerID</th>\n",
       "      <th>TotalValue</th>\n",
       "      <th>CustomerName</th>\n",
       "      <th>Region</th>\n",
       "    </tr>\n",
       "  </thead>\n",
       "  <tbody>\n",
       "    <tr>\n",
       "      <th>0</th>\n",
       "      <td>C0141</td>\n",
       "      <td>10673.87</td>\n",
       "      <td>Paul Parsons</td>\n",
       "      <td>Europe</td>\n",
       "    </tr>\n",
       "    <tr>\n",
       "      <th>1</th>\n",
       "      <td>C0054</td>\n",
       "      <td>8040.39</td>\n",
       "      <td>Bruce Rhodes</td>\n",
       "      <td>Asia</td>\n",
       "    </tr>\n",
       "    <tr>\n",
       "      <th>2</th>\n",
       "      <td>C0065</td>\n",
       "      <td>7663.70</td>\n",
       "      <td>Gerald Hines</td>\n",
       "      <td>North America</td>\n",
       "    </tr>\n",
       "    <tr>\n",
       "      <th>3</th>\n",
       "      <td>C0156</td>\n",
       "      <td>7634.45</td>\n",
       "      <td>William Adams</td>\n",
       "      <td>North America</td>\n",
       "    </tr>\n",
       "    <tr>\n",
       "      <th>4</th>\n",
       "      <td>C0082</td>\n",
       "      <td>7572.91</td>\n",
       "      <td>Aimee Taylor</td>\n",
       "      <td>South America</td>\n",
       "    </tr>\n",
       "    <tr>\n",
       "      <th>5</th>\n",
       "      <td>C0188</td>\n",
       "      <td>7111.32</td>\n",
       "      <td>Anna Ball</td>\n",
       "      <td>South America</td>\n",
       "    </tr>\n",
       "    <tr>\n",
       "      <th>6</th>\n",
       "      <td>C0059</td>\n",
       "      <td>7073.28</td>\n",
       "      <td>Mrs. Kimberly Wright</td>\n",
       "      <td>North America</td>\n",
       "    </tr>\n",
       "    <tr>\n",
       "      <th>7</th>\n",
       "      <td>C0028</td>\n",
       "      <td>6819.57</td>\n",
       "      <td>Jennifer Pena</td>\n",
       "      <td>Asia</td>\n",
       "    </tr>\n",
       "    <tr>\n",
       "      <th>8</th>\n",
       "      <td>C0099</td>\n",
       "      <td>6715.72</td>\n",
       "      <td>Rodney Eaton</td>\n",
       "      <td>South America</td>\n",
       "    </tr>\n",
       "    <tr>\n",
       "      <th>9</th>\n",
       "      <td>C0165</td>\n",
       "      <td>6708.10</td>\n",
       "      <td>Juan Mcdaniel</td>\n",
       "      <td>South America</td>\n",
       "    </tr>\n",
       "  </tbody>\n",
       "</table>\n",
       "</div>"
      ],
      "text/plain": [
       "  CustomerID  TotalValue          CustomerName         Region\n",
       "0      C0141    10673.87          Paul Parsons         Europe\n",
       "1      C0054     8040.39          Bruce Rhodes           Asia\n",
       "2      C0065     7663.70          Gerald Hines  North America\n",
       "3      C0156     7634.45         William Adams  North America\n",
       "4      C0082     7572.91          Aimee Taylor  South America\n",
       "5      C0188     7111.32             Anna Ball  South America\n",
       "6      C0059     7073.28  Mrs. Kimberly Wright  North America\n",
       "7      C0028     6819.57         Jennifer Pena           Asia\n",
       "8      C0099     6715.72          Rodney Eaton  South America\n",
       "9      C0165     6708.10         Juan Mcdaniel  South America"
      ]
     },
     "execution_count": 207,
     "metadata": {},
     "output_type": "execute_result"
    }
   ],
   "source": [
    "top_customers.head(10)"
   ]
  },
  {
   "cell_type": "markdown",
   "id": "4d79222c-3e50-402b-960d-9f0262b00354",
   "metadata": {},
   "source": [
    "## 4. Customer Segmentation by Region"
   ]
  },
  {
   "cell_type": "code",
   "execution_count": 208,
   "id": "dc6fc948-b2fc-46b7-9565-eeee7b17f6c3",
   "metadata": {},
   "outputs": [],
   "source": [
    "top_regions = merged_df.groupby(\"Region\")[\"TotalValue\"].sum().sort_values(ascending=False)"
   ]
  },
  {
   "cell_type": "code",
   "execution_count": 209,
   "id": "287b0570-d321-4f25-bdd8-ea6317fabe15",
   "metadata": {},
   "outputs": [
    {
     "data": {
      "text/plain": [
       "Region\n",
       "South America    219352.56\n",
       "Europe           166254.63\n",
       "North America    152313.40\n",
       "Asia             152074.97\n",
       "Name: TotalValue, dtype: float64"
      ]
     },
     "execution_count": 209,
     "metadata": {},
     "output_type": "execute_result"
    }
   ],
   "source": [
    "top_regions"
   ]
  },
  {
   "cell_type": "code",
   "execution_count": 210,
   "id": "d4aec328-8145-4240-ac99-eea04c295987",
   "metadata": {},
   "outputs": [
    {
     "data": {
      "image/png": "[encoded data removed]",
      "text/plain": [
       "<Figure size 800x800 with 1 Axes>"
      ]
     },
     "metadata": {},
     "output_type": "display_data"
    }
   ],
   "source": [
    "plt.figure(figsize=(8, 8))  # Adjust figure size\n",
    "colors = plt.cm.Pastel1(range(len(top_regions)))  # Custom color map\n",
    "\n",
    "top_regions.plot(\n",
    "    kind=\"pie\",\n",
    "    autopct=\"%1.1f%%\",      # Display percentages\n",
    "    startangle=90,          # Rotate to start at the top\n",
    "    colors=colors,          # Add a color palette\n",
    "    wedgeprops={\"edgecolor\": \"black\", \"linewidth\": 1.2},  # Add borders to wedges\n",
    "    pctdistance=0.85,       # Distance of percentage labels from the center\n",
    "    textprops={\"fontsize\": 12},  # Adjust font size of text\n",
    ")\n",
    "\n",
    "# Add title and legend\n",
    "plt.title(\"Top Regions by Revenue\", fontsize=16, pad=20)\n",
    "plt.legend(top_regions.index, bbox_to_anchor=(1.1, 1.0), fontsize=10, title=\"Categories\")\n",
    "\n",
    "# Display the plot\n",
    "plt.tight_layout()  # Adjust layout to avoid overlap\n",
    "plt.show()"
   ]
  },
  {
   "cell_type": "code",
   "execution_count": 211,
   "id": "d16bf78b-c6b3-4f89-9cea-7ca89b66c9a5",
   "metadata": {},
   "outputs": [
    {
     "name": "stdout",
     "output_type": "stream",
     "text": [
      "           Region     Category  TotalValue\n",
      "1            Asia     Clothing    49353.09\n",
      "2            Asia  Electronics    35658.15\n",
      "3            Asia   Home Decor    33944.70\n",
      "0            Asia        Books    33119.03\n",
      "4          Europe        Books    47464.42\n",
      "6          Europe  Electronics    41562.60\n",
      "7          Europe   Home Decor    40892.02\n",
      "5          Europe     Clothing    36335.59\n",
      "10  North America  Electronics    44716.43\n",
      "8   North America        Books    41811.99\n",
      "9   North America     Clothing    38038.49\n",
      "11  North America   Home Decor    27746.49\n",
      "12  South America        Books    69752.03\n",
      "14  South America  Electronics    58846.32\n",
      "15  South America   Home Decor    48310.72\n",
      "13  South America     Clothing    42443.49\n"
     ]
    }
   ],
   "source": [
    "# Group by Region and ProductName, then calculate the total sales for each\n",
    "region_product_sales = merged_df.groupby([\"Region\", \"Category\"])[\"TotalValue\"].sum().reset_index()\n",
    "\n",
    "# Sort within each region to get the top products\n",
    "region_top_products = region_product_sales.sort_values([\"Region\", \"TotalValue\"], ascending=[True, False])\n",
    "\n",
    "# Display the top products for each region\n",
    "print(region_top_products)"
   ]
  },
  {
   "cell_type": "code",
   "execution_count": 212,
   "id": "47e66aa2-ccc1-40fa-8c18-6d51b521d38d",
   "metadata": {},
   "outputs": [
    {
     "name": "stdout",
     "output_type": "stream",
     "text": [
      "\n",
      "Top Products Region-Wise:\n",
      "           Region     Category  TotalValue\n",
      "1            Asia     Clothing    49353.09\n",
      "4          Europe        Books    47464.42\n",
      "10  North America  Electronics    44716.43\n",
      "12  South America        Books    69752.03\n"
     ]
    }
   ],
   "source": [
    "top_n = 1\n",
    "region_top_n_products = region_top_products.groupby(\"Region\").head(top_n)\n",
    "\n",
    "print(\"\\nTop Products Region-Wise:\")\n",
    "print(region_top_n_products)"
   ]
  },
  {
   "cell_type": "code",
   "execution_count": 213,
   "id": "1223d7c3-b9e8-4b57-8015-77dd7a007d37",
   "metadata": {},
   "outputs": [
    {
     "data": {
      "image/png": "[encoded data removed]",
      "text/plain": [
       "<Figure size 800x600 with 1 Axes>"
      ]
     },
     "metadata": {},
     "output_type": "display_data"
    }
   ],
   "source": [
    "# Plot region-wise top products\n",
    "plt.figure(figsize=(8, 6))\n",
    "sns.barplot(\n",
    "    x=\"TotalValue\", \n",
    "    y=\"Category\", \n",
    "    hue=\"Region\", \n",
    "    data=region_top_n_products, \n",
    "    palette=\"Set2\"\n",
    ")\n",
    "plt.title(\"Top Products by Region\", fontsize=16)\n",
    "plt.xlabel(\"Total Sales (USD)\", fontsize=12)\n",
    "plt.ylabel(\"Product Name\", fontsize=12)\n",
    "plt.legend(title=\"Region\")\n",
    "plt.tight_layout()\n",
    "plt.show()"
   ]
  },
  {
   "cell_type": "markdown",
   "id": "33dfc721-ab98-4654-a350-f610cf5fc210",
   "metadata": {},
   "source": [
    "## 5. Customer Churn Analysis"
   ]
  },
  {
   "cell_type": "code",
   "execution_count": 214,
   "id": "b988629d-dd5f-40d6-8864-429145a6ccd1",
   "metadata": {},
   "outputs": [
    {
     "name": "stdout",
     "output_type": "stream",
     "text": [
      "Customers with no transactions:\n",
      "    CustomerID   CustomerName Region  SignupDate\n",
      "179      C0180  Amy Carpenter   Asia  2023-10-25\n",
      "Churned Customers:\n",
      "    CustomerID       CustomerName  SignupDate  TransactionCount  Churned\n",
      "13       C0014     Deborah Wilcox  2024-06-22               1.0     True\n",
      "19       C0020  Mr. Manuel Conway  2024-06-11               1.0     True\n",
      "32       C0033         Tyler Holt  2024-08-04               1.0     True\n",
      "57       C0058     Zachary Turner  2024-01-28               1.0     True\n",
      "59       C0060       James Murphy  2022-04-22               1.0     True\n",
      "77       C0078       Julia Palmer  2024-11-13               1.0     True\n",
      "79       C0080     David Gonzalez  2024-02-07               1.0     True\n",
      "96       C0097          Tina Ford  2023-12-18               1.0     True\n",
      "109      C0110    Elizabeth Wells  2024-09-21               1.0     True\n",
      "129      C0130       Robert Jones  2023-04-19               1.0     True\n",
      "149      C0150    Angela Williams  2022-09-13               1.0     True\n",
      "150      C0151     Amber Gonzalez  2024-11-22               1.0     True\n",
      "179      C0180      Amy Carpenter  2023-10-25               0.0     True\n"
     ]
    }
   ],
   "source": [
    "# Identify customers with no transactions\n",
    "customers_with_transactions = merged_df[\"CustomerID\"].unique()\n",
    "all_customers = customers_df[\"CustomerID\"].unique()\n",
    "\n",
    "# Customers who signed up but have not made any transactions\n",
    "no_transaction_customers = set(all_customers) - set(customers_with_transactions)\n",
    "\n",
    "# Create a DataFrame for these customers\n",
    "no_transaction_df = customers_df[customers_df[\"CustomerID\"].isin(no_transaction_customers)]\n",
    "print(\"Customers with no transactions:\")\n",
    "print(no_transaction_df)\n",
    "\n",
    "# Identify customers who haven't made repeat purchases\n",
    "# Count the number of transactions per customer\n",
    "customer_transaction_count = merged_df.groupby(\"CustomerID\")[\"TransactionID\"].count().reset_index()\n",
    "customer_transaction_count.rename(columns={\"TransactionID\": \"TransactionCount\"}, inplace=True)\n",
    "\n",
    "# Merge this information with the customers DataFrame\n",
    "customer_analysis = pd.merge(customers_df, customer_transaction_count, on=\"CustomerID\", how=\"left\")\n",
    "\n",
    "# Replace NaN values in TransactionCount with 0 for customers with no transactions\n",
    "customer_analysis[\"TransactionCount\"] = customer_analysis[\"TransactionCount\"].fillna(0)\n",
    "\n",
    "# Define \"repeat purchase\" customers as those with more than 1 transaction\n",
    "customer_analysis[\"RepeatPurchase\"] = customer_analysis[\"TransactionCount\"] > 1\n",
    "\n",
    "# Identify churned customers (no transactions or no repeat purchases)\n",
    "customer_analysis[\"Churned\"] = (customer_analysis[\"TransactionCount\"] == 0) | (~customer_analysis[\"RepeatPurchase\"])\n",
    "\n",
    "# Display churned customers\n",
    "churned_customers = customer_analysis[customer_analysis[\"Churned\"]]\n",
    "print(\"Churned Customers:\")\n",
    "print(churned_customers[[\"CustomerID\", \"CustomerName\", \"SignupDate\", \"TransactionCount\", \"Churned\"]])"
   ]
  }
 ],
 "metadata": {
  "kernelspec": {
   "display_name": "Python 3 (ipykernel)",
   "language": "python",
   "name": "python3"
  },
  "language_info": {
   "codemirror_mode": {
    "name": "ipython",
    "version": 3
   },
   "file_extension": ".py",
   "mimetype": "text/x-python",
   "name": "python",
   "nbconvert_exporter": "python",
   "pygments_lexer": "ipython3",
   "version": "3.11.7"
  }
 },
 "nbformat": 4,
 "nbformat_minor": 5
}
